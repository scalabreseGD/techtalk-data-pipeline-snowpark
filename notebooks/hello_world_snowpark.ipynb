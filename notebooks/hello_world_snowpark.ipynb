{
 "cells": [
  {
   "cell_type": "code",
   "execution_count": 1,
   "metadata": {},
   "outputs": [
    {
     "name": "stdout",
     "output_type": "stream",
     "text": [
      "Compiling /home/jovyan/work/scala_ws/init.sc/home/jovyan/work/./resources/conf.yml\n"
     ]
    },
    {
     "name": "stderr",
     "output_type": "stream",
     "text": [
      "[scala-interpreter-1] INFO com.snowflake.snowpark.Session - Closing stderr and redirecting to stdout\n"
     ]
    },
    {
     "name": "stdout",
     "output_type": "stream",
     "text": [
      "[scala-interpreter-1] INFO com.snowflake.snowpark.Session - Done closing stderr and redirecting to stdout\n",
      "[scala-interpreter-1] INFO com.snowflake.snowpark.internal.ParameterUtils - set JDBC client memory limit to 10240\n",
      "[scala-interpreter-1] INFO com.snowflake.snowpark.Session - Snowpark Session information: {\n",
      " \"snowpark.version\" : \"1.2.0\",\n",
      " \"java.version\" : \"1.8.0_265\",\n",
      " \"scala.version\" : \"2.12.12\",\n",
      " \"jdbc.session.id\" : \"21049638309898\",\n",
      " \"os.name\" : \"Linux\",\n",
      " \"jdbc.version\" : \"3.13.14\",\n",
      " \"snowpark.library\" : \"/home/jovyan/.cache/coursier/v1/https/repo1.maven.org/maven2/com/snowflake/snowpark/1.2.0/snowpark-1.2.0.jar\",\n",
      " \"scala.library\" : \"/home/jovyan/.cache/coursier/v1/https/repo1.maven.org/maven2/org/scala-lang/scala-library/2.12.12/scala-library-2.12.12.jar\",\n",
      " \"jdbc.library\" : \"/home/jovyan/.cache/coursier/v1/https/repo1.maven.org/maven2/net/snowflake/snowflake-jdbc/3.13.14/snowflake-jdbc-3.13.14.jar\"\n",
      "}\n"
     ]
    },
    {
     "data": {
      "text/plain": [
       "\u001b[32mimport \u001b[39m\u001b[36m$file.$                \n",
       "\u001b[39m\n",
       "\u001b[32mimport \u001b[39m\u001b[36minit._\u001b[39m"
      ]
     },
     "execution_count": 1,
     "metadata": {},
     "output_type": "execute_result"
    }
   ],
   "source": [
    "import $file.`scala_ws`.`init`\n",
    "import init._"
   ]
  },
  {
   "cell_type": "code",
   "execution_count": 2,
   "metadata": {},
   "outputs": [
    {
     "name": "stdout",
     "output_type": "stream",
     "text": [
      "---------------\n",
      "|\"MSG\"        |\n",
      "---------------\n",
      "|Hello World  |\n",
      "---------------\n",
      "\n"
     ]
    },
    {
     "data": {
      "text/plain": [
       "\u001b[36mdf\u001b[39m: \u001b[32mcom\u001b[39m.\u001b[32msnowflake\u001b[39m.\u001b[32msnowpark\u001b[39m.\u001b[32mDataFrame\u001b[39m = com.snowflake.snowpark.DataFrame@4f14cc09"
      ]
     },
     "execution_count": 2,
     "metadata": {},
     "output_type": "execute_result"
    }
   ],
   "source": [
    "val df = session.sql(\"select 'Hello World' as msg from DUAL\")\n",
    "df.show()"
   ]
  },
  {
   "cell_type": "code",
   "execution_count": null,
   "metadata": {},
   "outputs": [],
   "source": []
  },
  {
   "cell_type": "code",
   "execution_count": null,
   "metadata": {},
   "outputs": [],
   "source": []
  }
 ],
 "metadata": {
  "kernelspec": {
   "display_name": "Scala 2.12",
   "language": "scala",
   "name": "scala212"
  },
  "language_info": {
   "codemirror_mode": "text/x-scala",
   "file_extension": ".sc",
   "mimetype": "text/x-scala",
   "name": "scala",
   "nbconvert_exporter": "script",
   "version": "2.12.12"
  }
 },
 "nbformat": 4,
 "nbformat_minor": 4
}
