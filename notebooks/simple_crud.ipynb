{
 "cells": [
  {
   "cell_type": "code",
   "execution_count": 1,
   "metadata": {},
   "outputs": [
    {
     "name": "stdout",
     "output_type": "stream",
     "text": [
      "Compiling /home/jovyan/work/scala_ws/udfs.sc"
     ]
    },
    {
     "data": {
      "text/plain": [
       "\u001b[32mimport \u001b[39m\u001b[36m$file.$                \n",
       "\u001b[39m\n",
       "\u001b[32mimport \u001b[39m\u001b[36m$file.$                \n",
       "\u001b[39m\n",
       "\u001b[32mimport \u001b[39m\u001b[36minit._\n",
       "\u001b[39m\n",
       "\u001b[32mimport \u001b[39m\u001b[36mudfs._\u001b[39m"
      ]
     },
     "execution_count": 1,
     "metadata": {},
     "output_type": "execute_result"
    }
   ],
   "source": [
    "import $file.`scala_ws`.`init`\n",
    "import $file.`scala_ws`.`udfs`\n",
    "import init._\n",
    "import udfs._"
   ]
  },
  {
   "cell_type": "code",
   "execution_count": 2,
   "metadata": {},
   "outputs": [
    {
     "ename": "",
     "evalue": "",
     "output_type": "error",
     "traceback": [
      "\u001b[31mcom.snowflake.snowpark.SnowparkClientException: Error Code: 0202, Error message: Unable to detect the location of the enclosing class of the UDF. Call session.addDependency, and pass in the path to the directory or JAR file containing the compiled class file.\u001b[39m\n  com.snowflake.snowpark.internal.ErrorMessage$.createException(\u001b[32mErrorMessage.scala\u001b[39m:\u001b[32m351\u001b[39m)\n  com.snowflake.snowpark.internal.ErrorMessage$.UDF_CANNOT_DETECT_UDF_FUNCION_CLASS(\u001b[32mErrorMessage.scala\u001b[39m:\u001b[32m218\u001b[39m)\n  com.snowflake.snowpark.internal.UDXRegistrationHandler.addClassToDependencies(\u001b[32mUDXRegistrationHandler.scala\u001b[39m:\u001b[32m765\u001b[39m)\n  com.snowflake.snowpark.internal.UDXRegistrationHandler.uploadDependencies(\u001b[32mUDXRegistrationHandler.scala\u001b[39m:\u001b[32m250\u001b[39m)\n  com.snowflake.snowpark.internal.UDXRegistrationHandler.$anonfun$registerUDTF$4(\u001b[32mUDXRegistrationHandler.scala\u001b[39m:\u001b[32m149\u001b[39m)\n  com.snowflake.snowpark.internal.UDXRegistrationHandler.retryAfterFixingClassPath(\u001b[32mUDXRegistrationHandler.scala\u001b[39m:\u001b[32m54\u001b[39m)\n  com.snowflake.snowpark.internal.UDXRegistrationHandler.$anonfun$registerUDTF$3(\u001b[32mUDXRegistrationHandler.scala\u001b[39m:\u001b[32m147\u001b[39m)\n  com.snowflake.snowpark.internal.UDXRegistrationHandler.withUploadFailureCleanup(\u001b[32mUDXRegistrationHandler.scala\u001b[39m:\u001b[32m169\u001b[39m)\n  com.snowflake.snowpark.internal.UDXRegistrationHandler.registerUDTF(\u001b[32mUDXRegistrationHandler.scala\u001b[39m:\u001b[32m147\u001b[39m)\n  com.snowflake.snowpark.UDTFRegistration.registerTemporary(\u001b[32mUDTFRegistration.scala\u001b[39m:\u001b[32m183\u001b[39m)\n  ammonite.$sess.scala_ws.udfs$Helper.generateUDTFs(\u001b[32mudfs.sc\u001b[39m:\u001b[32m52\u001b[39m)\n  ammonite.$sess.cmd1$Helper.<init>(\u001b[32mcmd1.sc\u001b[39m:\u001b[32m1\u001b[39m)\n  ammonite.$sess.cmd1$.<init>(\u001b[32mcmd1.sc\u001b[39m:\u001b[32m7\u001b[39m)\n  ammonite.$sess.cmd1$.<clinit>(\u001b[32mcmd1.sc\u001b[39m:\u001b[32m-1\u001b[39m)"
     ]
    }
   ],
   "source": [
    "generateUDTFs()"
   ]
  },
  {
   "cell_type": "code",
   "execution_count": null,
   "metadata": {},
   "outputs": [],
   "source": []
  }
 ],
 "metadata": {
  "kernelspec": {
   "display_name": "Scala 2.12",
   "language": "scala",
   "name": "scala212"
  },
  "language_info": {
   "codemirror_mode": "text/x-scala",
   "file_extension": ".sc",
   "mimetype": "text/x-scala",
   "name": "scala",
   "nbconvert_exporter": "script",
   "version": "2.12.12"
  }
 },
 "nbformat": 4,
 "nbformat_minor": 4
}
